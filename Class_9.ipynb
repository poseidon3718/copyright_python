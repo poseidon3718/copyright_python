{
  "nbformat": 4,
  "nbformat_minor": 0,
  "metadata": {
    "colab": {
      "provenance": [],
      "authorship_tag": "ABX9TyN71ED/2518OGp/G+yyhQgK",
      "include_colab_link": true
    },
    "kernelspec": {
      "name": "python3",
      "display_name": "Python 3"
    },
    "language_info": {
      "name": "python"
    }
  },
  "cells": [
    {
      "cell_type": "markdown",
      "metadata": {
        "id": "view-in-github",
        "colab_type": "text"
      },
      "source": [
        "<a href=\"https://colab.research.google.com/github/poseidon3718/copyright_python/blob/main/Class_9.ipynb\" target=\"_parent\"><img src=\"https://colab.research.google.com/assets/colab-badge.svg\" alt=\"Open In Colab\"/></a>"
      ]
    },
    {
      "cell_type": "markdown",
      "source": [
        "day 9 프로그램"
      ],
      "metadata": {
        "id": "FCty_zNw-cKr"
      }
    },
    {
      "cell_type": "code",
      "source": [
        "a= '   test  !   '\n",
        "b= '~~.test.~~'\n",
        "c= '~test!'\n",
        "\n",
        "print(a.lstrip('~'))\n",
        "print(b.lstrip('~'))\n",
        "print(c.lstrip('~'))\n",
        "\n",
        "print(a.rstrip('~'))\n",
        "print(b.rstrip('~'))\n",
        "print(c.rstrip('~'))"
      ],
      "metadata": {
        "colab": {
          "base_uri": "https://localhost:8080/"
        },
        "id": "-v0W2TjL-mb_",
        "outputId": "35b414a0-f5ec-4903-fe15-b5e4a16e7cc1"
      },
      "execution_count": 16,
      "outputs": [
        {
          "output_type": "stream",
          "name": "stdout",
          "text": [
            "   test  !   \n",
            ".test.~~\n",
            "test!\n",
            "   test  !   \n",
            "~~.test.\n",
            "~test!\n"
          ]
        }
      ]
    },
    {
      "cell_type": "code",
      "source": [
        "text = ' water boils at 100 degrees '\n",
        "print('[' + text.rstrip() + ']')\n",
        "print('[' + text.lstrip() + ']')\n",
        "print('[' + text.strip() + ']')"
      ],
      "metadata": {
        "colab": {
          "base_uri": "https://localhost:8080/"
        },
        "id": "pd2hNgI4-zFc",
        "outputId": "71dd7785-0e1a-4d73-c347-fa63b84e03fc"
      },
      "execution_count": 5,
      "outputs": [
        {
          "output_type": "stream",
          "name": "stdout",
          "text": [
            "[ water boils at 100 degrees]\n",
            "[water boils at 100 degrees ]\n",
            "[water boils at 100 degrees]\n"
          ]
        }
      ]
    },
    {
      "cell_type": "code",
      "source": [
        "text = '0000000Water boils at 100 degrees 000'\n",
        "print(text.lstrip('0'))\n",
        "print(text.rstrip('0'))\n",
        "print(text.strip('0'))\n",
        "\n",
        "text = \"!,,,,,123,,,,,water,,,,pp\"\n",
        "print(text.lstrip(',123.p'))\n",
        "print(text.rstrip(',123.p'))\n",
        "print(text.strip(',123.p'))"
      ],
      "metadata": {
        "colab": {
          "base_uri": "https://localhost:8080/"
        },
        "id": "JjzT_VlR-0Nq",
        "outputId": "95fadc6f-37c6-42b0-87e7-a38726002b78"
      },
      "execution_count": 6,
      "outputs": [
        {
          "output_type": "stream",
          "name": "stdout",
          "text": [
            "Water boils at 100 degrees 000\n",
            "0000000Water boils at 100 degrees \n",
            "Water boils at 100 degrees \n",
            "!,,,,,123,,,,,water,,,,pp\n",
            "!,,,,,123,,,,,water\n",
            "!,,,,,123,,,,,water\n"
          ]
        }
      ]
    },
    {
      "cell_type": "code",
      "source": [
        "txt = \"  \"\n",
        "x=txt.isspace()\n",
        "print(x)\n",
        "\n",
        "sentence = input(\"문자열을 입력하시오: \")\n",
        "table = { \"알파벳\" : 0, \"숫자\" : 0, \"빈칸\" : 0}\n",
        "\n",
        "for i in sentence :\n",
        "    if (i.isalpha()):\n",
        "        table[\"알파벳\"] +=1\n",
        "    elif (i.isdigit()):\n",
        "        table[\"숫자\"] +=1\n",
        "    elif (i.isspace()):\n",
        "        table[\"빈칸\"] +=1\n",
        "print(table)"
      ],
      "metadata": {
        "colab": {
          "base_uri": "https://localhost:8080/"
        },
        "id": "NduUOXoF_CD5",
        "outputId": "19e040a5-a696-4c59-bda5-6938e2404a76"
      },
      "execution_count": 7,
      "outputs": [
        {
          "output_type": "stream",
          "name": "stdout",
          "text": [
            "True\n",
            "문자열을 입력하시오:  123 abc \n",
            "{'알파벳': 3, '숫자': 3, '빈칸': 3}\n"
          ]
        }
      ]
    },
    {
      "cell_type": "code",
      "source": [
        "s ='가나다라'\n",
        "n=7\n",
        "\n",
        "answer =''\n",
        "for i in range(n-len(s)):\n",
        "    answer += ' '\n",
        "answer += s\n",
        "\n",
        "print(answer)\n",
        "\n",
        "print(s.ljust(n))\n",
        "print(s.center(n))\n",
        "print(s.rjust(n))"
      ],
      "metadata": {
        "colab": {
          "base_uri": "https://localhost:8080/"
        },
        "id": "3SWOKRIG_DA8",
        "outputId": "a609fbbb-e57f-4219-e860-4ff90a927cf0"
      },
      "execution_count": 8,
      "outputs": [
        {
          "output_type": "stream",
          "name": "stdout",
          "text": [
            "   가나다라\n",
            "가나다라   \n",
            "  가나다라 \n",
            "   가나다라\n"
          ]
        }
      ]
    },
    {
      "cell_type": "code",
      "source": [
        "s =\"a b c d e f g\"\n",
        "print(f's          :{s}')\n",
        "\n",
        "r = s.split()\n",
        "print(f's.split() : {r}')\n",
        "\n",
        "s= \"aa,bb,cc,dd,ee,ff,gg\"\n",
        "print(f's               ; {s}')\n",
        "r0 = s.split()\n",
        "r1 = s.split('.')\n",
        "r2 = s.split(sep='.')\n",
        "print(f\"s.split()          : {r0}\")\n",
        "print(f\"s.split('.')          : {r1}\")\n",
        "print(f\"s.split(sep='.')          : {r2}\")"
      ],
      "metadata": {
        "colab": {
          "base_uri": "https://localhost:8080/"
        },
        "id": "_G2VY0uX_hKZ",
        "outputId": "a4300bc2-162a-4764-ea39-8d1193f5d61d"
      },
      "execution_count": 9,
      "outputs": [
        {
          "output_type": "stream",
          "name": "stdout",
          "text": [
            "s          :a b c d e f g\n",
            "s.split() : ['a', 'b', 'c', 'd', 'e', 'f', 'g']\n",
            "s               ; aa,bb,cc,dd,ee,ff,gg\n",
            "s.split()          : ['aa,bb,cc,dd,ee,ff,gg']\n",
            "s.split('.')          : ['aa,bb,cc,dd,ee,ff,gg']\n",
            "s.split(sep='.')          : ['aa,bb,cc,dd,ee,ff,gg']\n"
          ]
        }
      ]
    },
    {
      "cell_type": "code",
      "source": [
        "s =\"aa.bb.cc.BlockDMask.ee.ff.gg.python.example\"\n",
        "print(f'{s}')\n",
        "\n",
        "r0 = s.split()\n",
        "r1 = s.split('.', 3)\n",
        "r2 = s.split(sep='.', maxsplit=4)\n",
        "r3 = s.split('.',maxsplit=3)\n",
        "print(f\"\\ns.split()\\n{r0}\")\n",
        "print(f\"\\ns.split('.', 4)\\n{r1}\")\n",
        "print(f\"\\ns.split(sep='.', maxsplit=3)\\n{r2}\")\n",
        "print(f\"\\ns.split('.', maxsplit=3)\\n{r3}\")"
      ],
      "metadata": {
        "colab": {
          "base_uri": "https://localhost:8080/"
        },
        "id": "G8hzOBrE_p8R",
        "outputId": "c802d523-0e4f-47cc-9c66-bbf329a2453e"
      },
      "execution_count": 10,
      "outputs": [
        {
          "output_type": "stream",
          "name": "stdout",
          "text": [
            "aa.bb.cc.BlockDMask.ee.ff.gg.python.example\n",
            "\n",
            "s.split()\n",
            "['aa.bb.cc.BlockDMask.ee.ff.gg.python.example']\n",
            "\n",
            "s.split('.', 4)\n",
            "['aa', 'bb', 'cc', 'BlockDMask.ee.ff.gg.python.example']\n",
            "\n",
            "s.split(sep='.', maxsplit=3)\n",
            "['aa', 'bb', 'cc', 'BlockDMask', 'ee.ff.gg.python.example']\n",
            "\n",
            "s.split('.', maxsplit=3)\n",
            "['aa', 'bb', 'cc', 'BlockDMask.ee.ff.gg.python.example']\n"
          ]
        }
      ]
    },
    {
      "cell_type": "code",
      "source": [
        "txt = \"홈짱닷컴\\nHomzzang.com\"\n",
        "print(txt.splitlines())"
      ],
      "metadata": {
        "colab": {
          "base_uri": "https://localhost:8080/"
        },
        "id": "2DtK55sa_ye0",
        "outputId": "7340b9d9-aa9b-488d-a271-07fd683fbf18"
      },
      "execution_count": 11,
      "outputs": [
        {
          "output_type": "stream",
          "name": "stdout",
          "text": [
            "['홈짱닷컴', 'Homzzang.com']\n"
          ]
        }
      ]
    },
    {
      "cell_type": "code",
      "source": [
        "text = '123,456,789,999'\n",
        "\n",
        "replaceAll= text.replace(\",\",\"!\")\n",
        "replace_t1= text.replace(\",\",\"!\",1)\n",
        "replace_t2= text.replace(\",\",\"!\",2)\n",
        "replace_t3= text.replace(\",\",\"1\",3)\n",
        "print(\"결과 :\")\n",
        "print(replaceAll)\n",
        "print(replace_t1)\n",
        "print(replace_t2)\n",
        "print(replace_t3)"
      ],
      "metadata": {
        "colab": {
          "base_uri": "https://localhost:8080/"
        },
        "id": "sCda_TTM_6KI",
        "outputId": "434b074a-04c4-40ee-d95a-547d2d6a3e97"
      },
      "execution_count": 12,
      "outputs": [
        {
          "output_type": "stream",
          "name": "stdout",
          "text": [
            "결과 :\n",
            "123!456!789!999\n",
            "123!456,789,999\n",
            "123!456!789,999\n",
            "123145617891999\n"
          ]
        }
      ]
    },
    {
      "cell_type": "code",
      "source": [
        "a = ['a','b','c','d','1','2','3']\n",
        "print(a)\n",
        "\n",
        "result1 = \"!\".join(a)\n",
        "print(result1)"
      ],
      "metadata": {
        "colab": {
          "base_uri": "https://localhost:8080/"
        },
        "id": "-ckp6L_4ABBF",
        "outputId": "dd44354c-3a32-41be-9e30-c184dffad3b5"
      },
      "execution_count": 13,
      "outputs": [
        {
          "output_type": "stream",
          "name": "stdout",
          "text": [
            "['a', 'b', 'c', 'd', '1', '2', '3']\n",
            "a!b!c!d!1!2!3\n"
          ]
        }
      ]
    },
    {
      "cell_type": "code",
      "source": [
        "print( \"3\".zfill(3))\n",
        "print( \"s1\".zfill(4))\n",
        "\n",
        "for x in range(3):\n",
        "    print(x)\n",
        "    print( str(x).zfill(4))"
      ],
      "metadata": {
        "colab": {
          "base_uri": "https://localhost:8080/"
        },
        "id": "WiftG12eAG1v",
        "outputId": "ba48ab02-031f-46a3-981c-319a588b7e4f"
      },
      "execution_count": 14,
      "outputs": [
        {
          "output_type": "stream",
          "name": "stdout",
          "text": [
            "003\n",
            "00s1\n",
            "0\n",
            "0000\n",
            "1\n",
            "0001\n",
            "2\n",
            "0002\n"
          ]
        }
      ]
    },
    {
      "cell_type": "code",
      "source": [
        "a =\"abc\"\n",
        "\n",
        "print(a.rjust(10))\n",
        "print(a.rjust(10, '#'))\n",
        "\n",
        "print(a.ljust(10))\n",
        "print(a.ljust(10, '*'))\n",
        "\n",
        "print('\\n')\n",
        "\n",
        "b='def'\n",
        "print(b.ljust(15))\n",
        "print(b.ljust(15, 'k'))"
      ],
      "metadata": {
        "colab": {
          "base_uri": "https://localhost:8080/"
        },
        "id": "JIT_ojFCAT0b",
        "outputId": "c448d713-fe78-4cd6-edad-82f037cddef7"
      },
      "execution_count": 15,
      "outputs": [
        {
          "output_type": "stream",
          "name": "stdout",
          "text": [
            "       abc\n",
            "#######abc\n",
            "abc       \n",
            "abc*******\n",
            "\n",
            "\n",
            "def            \n",
            "defkkkkkkkkkkkk\n"
          ]
        }
      ]
    }
  ]
}