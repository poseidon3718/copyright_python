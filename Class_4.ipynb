{
  "cells": [
    {
      "cell_type": "markdown",
      "metadata": {
        "id": "view-in-github",
        "colab_type": "text"
      },
      "source": [
        "<a href=\"https://colab.research.google.com/github/poseidon3718/copyright_python/blob/main/Class_4.ipynb\" target=\"_parent\"><img src=\"https://colab.research.google.com/assets/colab-badge.svg\" alt=\"Open In Colab\"/></a>"
      ]
    },
    {
      "cell_type": "markdown",
      "metadata": {
        "id": "RpHQKnjrniUh"
      },
      "source": [
        "day 4 프로그램"
      ]
    },
    {
      "cell_type": "code",
      "execution_count": null,
      "metadata": {
        "colab": {
          "background_save": true
        },
        "id": "K4yvJ1_5ne_j",
        "outputId": "c45b02ea-fac6-4d96-e502-e20af42da949"
      },
      "outputs": [
        {
          "name": "stdout",
          "output_type": "stream",
          "text": [
            "1.3333333333333333\n",
            "0.5\n",
            "2.0\n",
            "2\n",
            "1\n",
            "1024\n"
          ]
        }
      ],
      "source": [
        "print(4/3)\n",
        "print(1/2)\n",
        "print(4/2)\n",
        "print(7//3)\n",
        "print(7%3)\n",
        "print(2**10)"
      ]
    },
    {
      "cell_type": "code",
      "source": [
        "divmod(5,2)"
      ],
      "metadata": {
        "colab": {
          "base_uri": "https://localhost:8080/"
        },
        "id": "t7vDvz8aonPa",
        "outputId": "a7e72d17-5a48-4f55-b33d-de19e114f166"
      },
      "execution_count": 2,
      "outputs": [
        {
          "output_type": "execute_result",
          "data": {
            "text/plain": [
              "(2, 1)"
            ]
          },
          "metadata": {},
          "execution_count": 2
        }
      ]
    },
    {
      "cell_type": "code",
      "source": [
        "quotient, rmainder = divmod(5,2)\n",
        "print(quotient, rmainder)"
      ],
      "metadata": {
        "colab": {
          "base_uri": "https://localhost:8080/"
        },
        "id": "fdHJ8GRuoyjd",
        "outputId": "8d88bc20-060e-4185-8c89-aa1fbbffbc0d"
      },
      "execution_count": 3,
      "outputs": [
        {
          "output_type": "stream",
          "name": "stdout",
          "text": [
            "2 1\n"
          ]
        }
      ]
    },
    {
      "cell_type": "code",
      "source": [
        "a=1024\n",
        "print(a)\n",
        "a+=1024\n",
        "print(a)\n",
        "a-=1024\n",
        "print(a)\n",
        "a*=4\n",
        "print(a)\n",
        "a/=2\n",
        "print(a)\n",
        "a//=2\n",
        "print(a)\n",
        "a%=1022\n",
        "print(a)\n",
        "a**=10\n",
        "print(a)"
      ],
      "metadata": {
        "colab": {
          "base_uri": "https://localhost:8080/"
        },
        "id": "im-z_1w9pQkn",
        "outputId": "0e50f274-fa97-40a6-f24c-2cc6f44012aa"
      },
      "execution_count": 4,
      "outputs": [
        {
          "output_type": "stream",
          "name": "stdout",
          "text": [
            "1024\n",
            "2048\n",
            "1024\n",
            "4096\n",
            "2048.0\n",
            "1024.0\n",
            "2.0\n",
            "1024.0\n"
          ]
        }
      ]
    },
    {
      "cell_type": "code",
      "source": [
        "a = 10\n",
        "b = 3\n",
        "print(\"10 == 3 =>\", a==b)\n",
        "print(\"10 != 3 =>\", a!=b)\n",
        "print(\"10 > 3 =>\", a>b)\n",
        "print(\"10 < 3 =>\", a<b)\n",
        "print(\"10 >= 3 =>\", a>=b)\n",
        "print(\"10 <= 3 =>\", a<=b)"
      ],
      "metadata": {
        "colab": {
          "base_uri": "https://localhost:8080/"
        },
        "id": "ZVdRJ4gsqcjQ",
        "outputId": "9e99b0f5-6b22-4f09-875a-71f45d7b9b21"
      },
      "execution_count": 5,
      "outputs": [
        {
          "output_type": "stream",
          "name": "stdout",
          "text": [
            "10 == 3 => False\n",
            "10 != 3 => True\n",
            "10 > 3 => True\n",
            "10 < 3 => False\n",
            "10 >= 3 => True\n",
            "10 <= 3 => False\n"
          ]
        }
      ]
    },
    {
      "cell_type": "code",
      "source": [
        "print(bin(13))\n",
        "print(0b1101)"
      ],
      "metadata": {
        "colab": {
          "base_uri": "https://localhost:8080/"
        },
        "id": "I_SJqN6Lqypb",
        "outputId": "f8971a77-970b-4241-9cb9-01882c988051"
      },
      "execution_count": 6,
      "outputs": [
        {
          "output_type": "stream",
          "name": "stdout",
          "text": [
            "0b1101\n",
            "13\n"
          ]
        }
      ]
    },
    {
      "cell_type": "code",
      "source": [
        "int('1101',2)"
      ],
      "metadata": {
        "colab": {
          "base_uri": "https://localhost:8080/"
        },
        "id": "uksaWqHVrYrp",
        "outputId": "de357715-d95f-4dda-8541-ed5a98522124"
      },
      "execution_count": 8,
      "outputs": [
        {
          "output_type": "execute_result",
          "data": {
            "text/plain": [
              "13"
            ]
          },
          "metadata": {},
          "execution_count": 8
        }
      ]
    },
    {
      "cell_type": "code",
      "source": [
        "print(bin(0b1101&0b1001))\n",
        "print(13&9)\n",
        "print(bin(0b1101|0b1001))\n",
        "print(13|9)\n",
        "print(bin(0b1101^0b1001))\n",
        "print(13^9)\n",
        "print(bin(~0b1101))\n",
        "print(~13)"
      ],
      "metadata": {
        "colab": {
          "base_uri": "https://localhost:8080/"
        },
        "id": "5kfkCi9er6bK",
        "outputId": "eddd9d77-6168-4845-96ff-b935e792c4f2"
      },
      "execution_count": 9,
      "outputs": [
        {
          "output_type": "stream",
          "name": "stdout",
          "text": [
            "0b1001\n",
            "9\n",
            "0b1101\n",
            "13\n",
            "0b100\n",
            "4\n",
            "-0b1110\n",
            "-14\n"
          ]
        }
      ]
    }
  ],
  "metadata": {
    "colab": {
      "provenance": [],
      "authorship_tag": "ABX9TyM69Ge2KiLV9FRELVe6ps/K",
      "include_colab_link": true
    },
    "kernelspec": {
      "display_name": "Python 3",
      "name": "python3"
    },
    "language_info": {
      "name": "python"
    }
  },
  "nbformat": 4,
  "nbformat_minor": 0
}