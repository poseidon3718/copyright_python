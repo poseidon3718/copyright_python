{
  "nbformat": 4,
  "nbformat_minor": 0,
  "metadata": {
    "colab": {
      "provenance": [],
      "authorship_tag": "ABX9TyOImaqzfzvEyP6P7YwqSAq0",
      "include_colab_link": true
    },
    "kernelspec": {
      "name": "python3",
      "display_name": "Python 3"
    },
    "language_info": {
      "name": "python"
    }
  },
  "cells": [
    {
      "cell_type": "markdown",
      "metadata": {
        "id": "view-in-github",
        "colab_type": "text"
      },
      "source": [
        "<a href=\"https://colab.research.google.com/github/poseidon3718/copyright_python/blob/main/Class_6.ipynb\" target=\"_parent\"><img src=\"https://colab.research.google.com/assets/colab-badge.svg\" alt=\"Open In Colab\"/></a>"
      ]
    },
    {
      "cell_type": "markdown",
      "source": [
        "day 6 프로그램"
      ],
      "metadata": {
        "id": "FfZspnu0IFvG"
      }
    },
    {
      "cell_type": "code",
      "execution_count": 1,
      "metadata": {
        "colab": {
          "base_uri": "https://localhost:8080/"
        },
        "id": "5kOut2ndIDbE",
        "outputId": "0727dd90-b618-410d-d287-e8afb1266e4d"
      },
      "outputs": [
        {
          "output_type": "stream",
          "name": "stdout",
          "text": [
            "How old are you:20\n",
            "20 years old\n"
          ]
        }
      ],
      "source": [
        "str = input(\"How old are you:\")\n",
        "print(str,'years old',sep=' ')"
      ]
    },
    {
      "cell_type": "code",
      "source": [
        "x=int(input('number :'))\n",
        "print(x)"
      ],
      "metadata": {
        "colab": {
          "base_uri": "https://localhost:8080/"
        },
        "id": "grqaKdmBLokH",
        "outputId": "22b5e7e6-f277-4214-b591-00db5bb3eee2"
      },
      "execution_count": 2,
      "outputs": [
        {
          "output_type": "stream",
          "name": "stdout",
          "text": [
            "number :124\n",
            "124\n"
          ]
        }
      ]
    },
    {
      "cell_type": "code",
      "source": [
        "x=float(input('number :'))\n",
        "print(x)"
      ],
      "metadata": {
        "colab": {
          "base_uri": "https://localhost:8080/"
        },
        "id": "_6Yp84L5Ny-J",
        "outputId": "0fb836f9-31ed-477f-d560-fccfc242e08b"
      },
      "execution_count": 4,
      "outputs": [
        {
          "output_type": "stream",
          "name": "stdout",
          "text": [
            "number :15.49\n",
            "15.49\n"
          ]
        }
      ]
    },
    {
      "cell_type": "code",
      "source": [
        "year = input(\"This year:\")\n",
        "year = eval(year)\n",
        "year = year +1\n",
        "print(\"Next year:\",year)"
      ],
      "metadata": {
        "colab": {
          "base_uri": "https://localhost:8080/"
        },
        "id": "qhnc_7nMMN03",
        "outputId": "ac7a7052-17eb-423c-e8b5-79cc078377d4"
      },
      "execution_count": 3,
      "outputs": [
        {
          "output_type": "stream",
          "name": "stdout",
          "text": [
            "This year:2024\n",
            "Next year: 2025\n"
          ]
        }
      ]
    },
    {
      "cell_type": "code",
      "source": [
        "i = 0\n",
        "result = 0\n",
        "while i < 5:\n",
        "  print(f'{i} 번째',end=\" \")\n",
        "  a = input(\"성적 입력 : \")\n",
        "  result += int(a)\n",
        "  i += 1\n",
        "\n",
        "print(f'합 : {result}')\n",
        "print(f'평균 : {result / 5}')"
      ],
      "metadata": {
        "colab": {
          "base_uri": "https://localhost:8080/"
        },
        "id": "HN_KC8Q9ObMG",
        "outputId": "37c1934d-94ee-4214-8e5b-5ec5e49a924e"
      },
      "execution_count": 7,
      "outputs": [
        {
          "output_type": "stream",
          "name": "stdout",
          "text": [
            "0 번째 성적 입력 : 10\n",
            "1 번째 성적 입력 : 20\n",
            "2 번째 성적 입력 : 30\n",
            "3 번째 성적 입력 : 40\n",
            "4 번째 성적 입력 : 50\n",
            "합 : 150\n",
            "평균 : 30.0\n"
          ]
        }
      ]
    },
    {
      "cell_type": "code",
      "source": [
        "test_list = ['one','two','three']\n",
        "for i in test_list:\n",
        "    print(i)"
      ],
      "metadata": {
        "colab": {
          "base_uri": "https://localhost:8080/"
        },
        "id": "vdTN2hBCPayI",
        "outputId": "04104337-43cb-4203-aeea-67cf27cf316a"
      },
      "execution_count": 8,
      "outputs": [
        {
          "output_type": "stream",
          "name": "stdout",
          "text": [
            "one\n",
            "two\n",
            "three\n"
          ]
        }
      ]
    },
    {
      "cell_type": "code",
      "source": [
        "for i in range(1,10):\n",
        "    print(i)"
      ],
      "metadata": {
        "colab": {
          "base_uri": "https://localhost:8080/"
        },
        "id": "PkTG68oDP0KY",
        "outputId": "d2971e2b-7eae-4590-d39b-305fb303e466"
      },
      "execution_count": 9,
      "outputs": [
        {
          "output_type": "stream",
          "name": "stdout",
          "text": [
            "1\n",
            "2\n",
            "3\n",
            "4\n",
            "5\n",
            "6\n",
            "7\n",
            "8\n",
            "9\n"
          ]
        }
      ]
    },
    {
      "cell_type": "code",
      "source": [
        "result = 0\n",
        "for a in range(1, 101):  #1 ~ 100\n",
        "\n",
        "  result = result + a\n",
        "  print(f\"{a} {result}\")\n",
        "\n",
        "print(result)"
      ],
      "metadata": {
        "colab": {
          "base_uri": "https://localhost:8080/"
        },
        "id": "PBUmc6aeQ3xM",
        "outputId": "bc0c80ec-c1ce-4bad-ee4b-554ab31cd513"
      },
      "execution_count": 10,
      "outputs": [
        {
          "output_type": "stream",
          "name": "stdout",
          "text": [
            "1 1\n",
            "2 3\n",
            "3 6\n",
            "4 10\n",
            "5 15\n",
            "6 21\n",
            "7 28\n",
            "8 36\n",
            "9 45\n",
            "10 55\n",
            "11 66\n",
            "12 78\n",
            "13 91\n",
            "14 105\n",
            "15 120\n",
            "16 136\n",
            "17 153\n",
            "18 171\n",
            "19 190\n",
            "20 210\n",
            "21 231\n",
            "22 253\n",
            "23 276\n",
            "24 300\n",
            "25 325\n",
            "26 351\n",
            "27 378\n",
            "28 406\n",
            "29 435\n",
            "30 465\n",
            "31 496\n",
            "32 528\n",
            "33 561\n",
            "34 595\n",
            "35 630\n",
            "36 666\n",
            "37 703\n",
            "38 741\n",
            "39 780\n",
            "40 820\n",
            "41 861\n",
            "42 903\n",
            "43 946\n",
            "44 990\n",
            "45 1035\n",
            "46 1081\n",
            "47 1128\n",
            "48 1176\n",
            "49 1225\n",
            "50 1275\n",
            "51 1326\n",
            "52 1378\n",
            "53 1431\n",
            "54 1485\n",
            "55 1540\n",
            "56 1596\n",
            "57 1653\n",
            "58 1711\n",
            "59 1770\n",
            "60 1830\n",
            "61 1891\n",
            "62 1953\n",
            "63 2016\n",
            "64 2080\n",
            "65 2145\n",
            "66 2211\n",
            "67 2278\n",
            "68 2346\n",
            "69 2415\n",
            "70 2485\n",
            "71 2556\n",
            "72 2628\n",
            "73 2701\n",
            "74 2775\n",
            "75 2850\n",
            "76 2926\n",
            "77 3003\n",
            "78 3081\n",
            "79 3160\n",
            "80 3240\n",
            "81 3321\n",
            "82 3403\n",
            "83 3486\n",
            "84 3570\n",
            "85 3655\n",
            "86 3741\n",
            "87 3828\n",
            "88 3916\n",
            "89 4005\n",
            "90 4095\n",
            "91 4186\n",
            "92 4278\n",
            "93 4371\n",
            "94 4465\n",
            "95 4560\n",
            "96 4656\n",
            "97 4753\n",
            "98 4851\n",
            "99 4950\n",
            "100 5050\n",
            "5050\n"
          ]
        }
      ]
    },
    {
      "cell_type": "code",
      "source": [
        "result = 0\n",
        "for a in range(1,101):\n",
        "    result = result + a\n",
        "    print(f'{a} sum = {result}')\n",
        "    if result >100:\n",
        "        break\n",
        "\n",
        "print(result)"
      ],
      "metadata": {
        "colab": {
          "base_uri": "https://localhost:8080/"
        },
        "id": "Oe48ORF1SZOs",
        "outputId": "ba4cea75-cea9-418e-fb2b-143a6d2f3d67"
      },
      "execution_count": 11,
      "outputs": [
        {
          "output_type": "stream",
          "name": "stdout",
          "text": [
            "1 sum = 1\n",
            "2 sum = 3\n",
            "3 sum = 6\n",
            "4 sum = 10\n",
            "5 sum = 15\n",
            "6 sum = 21\n",
            "7 sum = 28\n",
            "8 sum = 36\n",
            "9 sum = 45\n",
            "10 sum = 55\n",
            "11 sum = 66\n",
            "12 sum = 78\n",
            "13 sum = 91\n",
            "14 sum = 105\n",
            "105\n"
          ]
        }
      ]
    },
    {
      "cell_type": "code",
      "source": [
        "index = 0\n",
        "s = \"BlockDMask\"\n",
        "for a in s:\n",
        "    print(a,end=' ')\n",
        "    if a =='k':\n",
        "        break\n",
        "\n",
        "    index = index + 1\n",
        "\n",
        "print(index)"
      ],
      "metadata": {
        "colab": {
          "base_uri": "https://localhost:8080/"
        },
        "id": "GTM4S_5iTTMH",
        "outputId": "cb958c51-59f4-4098-c7c8-38234f3c0dc8"
      },
      "execution_count": 12,
      "outputs": [
        {
          "output_type": "stream",
          "name": "stdout",
          "text": [
            "B l o c k 4\n"
          ]
        }
      ]
    },
    {
      "cell_type": "code",
      "source": [
        "student = [180,170,164,199,182,172,177]\n",
        "for a in student:\n",
        "    if a >170:\n",
        "        continue\n",
        "\n",
        "    print(a)"
      ],
      "metadata": {
        "colab": {
          "base_uri": "https://localhost:8080/"
        },
        "id": "AiOPPt0eUSCp",
        "outputId": "9de887f7-26e7-4047-9d28-b0d7ff0b97ee"
      },
      "execution_count": 13,
      "outputs": [
        {
          "output_type": "stream",
          "name": "stdout",
          "text": [
            "170\n",
            "164\n"
          ]
        }
      ]
    },
    {
      "cell_type": "code",
      "source": [
        "l = ['Alice','Bob','Chrlie']\n",
        "\n",
        "for name in l:\n",
        "    print(name)\n",
        "else:\n",
        "    print(\"!! Finish\")"
      ],
      "metadata": {
        "colab": {
          "base_uri": "https://localhost:8080/"
        },
        "id": "_74vAhNVUoim",
        "outputId": "207e8391-22c0-464c-92cb-2a9f0f9a6d13"
      },
      "execution_count": 14,
      "outputs": [
        {
          "output_type": "stream",
          "name": "stdout",
          "text": [
            "Alice\n",
            "Bob\n",
            "Chrlie\n",
            "!! Finish\n"
          ]
        }
      ]
    },
    {
      "cell_type": "code",
      "source": [
        "l = ['Alice','Bob','Chrlie']\n",
        "\n",
        "for name in l:\n",
        "    if name == 'Bob':\n",
        "        print(\"Break!\")\n",
        "        break\n",
        "    print(name)\n",
        "else:\n",
        "    print(\"!! Finish\")"
      ],
      "metadata": {
        "colab": {
          "base_uri": "https://localhost:8080/"
        },
        "id": "Dm9pYYIIVT3z",
        "outputId": "4299a480-9a3c-46e0-a8da-412cf04caf93"
      },
      "execution_count": 15,
      "outputs": [
        {
          "output_type": "stream",
          "name": "stdout",
          "text": [
            "Alice\n",
            "Break!\n"
          ]
        }
      ]
    },
    {
      "cell_type": "code",
      "source": [
        "sr=['father','mother','brother']\n",
        "cnt=0\n",
        "for s in sr:\n",
        "    print(s)\n",
        "    for c in s:\n",
        "        print(c,end=' ')\n",
        "        if c == 'r':\n",
        "            print(' ')\n",
        "            cnt +=1\n",
        "print(cnt)"
      ],
      "metadata": {
        "colab": {
          "base_uri": "https://localhost:8080/"
        },
        "id": "GYOLSxztV0qf",
        "outputId": "b8ad9143-8169-4206-9618-741a5d547a5e"
      },
      "execution_count": 16,
      "outputs": [
        {
          "output_type": "stream",
          "name": "stdout",
          "text": [
            "father\n",
            "f a t h e r  \n",
            "mother\n",
            "m o t h e r  \n",
            "brother\n",
            "b r  \n",
            "o t h e r  \n",
            "4\n"
          ]
        }
      ]
    },
    {
      "cell_type": "code",
      "source": [
        "a = []\n",
        "\n",
        "for i in range(10):\n",
        "    a.append(0)\n",
        "\n",
        "print(a)"
      ],
      "metadata": {
        "colab": {
          "base_uri": "https://localhost:8080/"
        },
        "id": "OFgQIwnBWzEf",
        "outputId": "1d95fdce-d79b-40d8-95b6-37643de092b9"
      },
      "execution_count": 17,
      "outputs": [
        {
          "output_type": "stream",
          "name": "stdout",
          "text": [
            "[0, 0, 0, 0, 0, 0, 0, 0, 0, 0]\n"
          ]
        }
      ]
    },
    {
      "cell_type": "code",
      "source": [
        "a = []\n",
        "\n",
        "for i in range(3):\n",
        "    line = []\n",
        "    for j in range(2):\n",
        "        line.append(0)\n",
        "    a.append(line)\n",
        "\n",
        "print(a)"
      ],
      "metadata": {
        "colab": {
          "base_uri": "https://localhost:8080/"
        },
        "id": "AkZNYk61sI4p",
        "outputId": "898364ab-fc3b-4fc5-d2c5-48129fcb9a49"
      },
      "execution_count": 18,
      "outputs": [
        {
          "output_type": "stream",
          "name": "stdout",
          "text": [
            "[[0, 0], [0, 0], [0, 0]]\n"
          ]
        }
      ]
    }
  ]
}