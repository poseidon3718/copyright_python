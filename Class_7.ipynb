{
  "nbformat": 4,
  "nbformat_minor": 0,
  "metadata": {
    "colab": {
      "provenance": [],
      "authorship_tag": "ABX9TyP+Xip4Lr21hniBRqPOP+hE",
      "include_colab_link": true
    },
    "kernelspec": {
      "name": "python3",
      "display_name": "Python 3"
    },
    "language_info": {
      "name": "python"
    }
  },
  "cells": [
    {
      "cell_type": "markdown",
      "metadata": {
        "id": "view-in-github",
        "colab_type": "text"
      },
      "source": [
        "<a href=\"https://colab.research.google.com/github/poseidon3718/copyright_python/blob/main/Class_7.ipynb\" target=\"_parent\"><img src=\"https://colab.research.google.com/assets/colab-badge.svg\" alt=\"Open In Colab\"/></a>"
      ]
    },
    {
      "cell_type": "markdown",
      "source": [
        "day 7 프로그램"
      ],
      "metadata": {
        "id": "-eCR6oZyoNzg"
      }
    },
    {
      "cell_type": "code",
      "execution_count": 1,
      "metadata": {
        "colab": {
          "base_uri": "https://localhost:8080/"
        },
        "id": "AWAJTRZqoKbL",
        "outputId": "6d4928d3-37e7-469f-d9b3-abbaeee53c77"
      },
      "outputs": [
        {
          "output_type": "stream",
          "name": "stdout",
          "text": [
            "13\n"
          ]
        }
      ],
      "source": [
        "a = 'I Love Python'\n",
        "print( len(a))"
      ]
    },
    {
      "cell_type": "code",
      "source": [
        "name = 'BlockDMask'\n",
        "phone = '010 xxxx xxxx'\n",
        "address = 'korea'\n",
        "print(len(name))\n",
        "print(len(phone))\n",
        "print(len(address))"
      ],
      "metadata": {
        "colab": {
          "base_uri": "https://localhost:8080/"
        },
        "id": "E_S6IH9apwG3",
        "outputId": "bdb72637-1b85-4f61-e6df-4a6176e79046"
      },
      "execution_count": 2,
      "outputs": [
        {
          "output_type": "stream",
          "name": "stdout",
          "text": [
            "10\n",
            "13\n",
            "5\n"
          ]
        }
      ]
    },
    {
      "cell_type": "code",
      "source": [
        "a=[1,2,3]\n",
        "print(min(a))\n",
        "\n",
        "b='bBlockDMask'\n",
        "print(min(b))\n",
        "\n",
        "c=1\n",
        "#print(min(c))\n",
        "\n",
        "d=(6,5,4,2)\n",
        "print(max(d))\n",
        "\n",
        "e=[3,4,5, 'a','b','c']\n",
        "#print(min(e))"
      ],
      "metadata": {
        "colab": {
          "base_uri": "https://localhost:8080/"
        },
        "id": "wnXTcVCqqkrJ",
        "outputId": "ba28dc57-8ea7-4502-d5d3-31cb2e95e177"
      },
      "execution_count": 4,
      "outputs": [
        {
          "output_type": "stream",
          "name": "stdout",
          "text": [
            "1\n",
            "B\n",
            "6\n"
          ]
        }
      ]
    },
    {
      "cell_type": "code",
      "source": [
        "a=[1,2,3]\n",
        "b=[1,2,4]\n",
        "print(min(a,b))\n",
        "\n",
        "c='BBB'\n",
        "d='BBa'\n",
        "print(min(c,d))"
      ],
      "metadata": {
        "colab": {
          "base_uri": "https://localhost:8080/"
        },
        "id": "A96ZIV-Gq7ID",
        "outputId": "01477d17-aa32-4ec4-8203-db195d8bdc22"
      },
      "execution_count": 5,
      "outputs": [
        {
          "output_type": "stream",
          "name": "stdout",
          "text": [
            "[1, 2, 3]\n",
            "BBB\n"
          ]
        }
      ]
    },
    {
      "cell_type": "code",
      "source": [
        "g=[2,3,4]\n",
        "h=[2,2,2,2,2]\n",
        "i=[9,8,7,6,5]\n",
        "j=[i]\n",
        "k=['a']\n",
        "print(min(g,h,i,j,k))"
      ],
      "metadata": {
        "colab": {
          "base_uri": "https://localhost:8080/",
          "height": 184
        },
        "id": "NcuFyTgUrae6",
        "outputId": "786670fb-5fea-44db-bca6-c4d2e0fa46f8"
      },
      "execution_count": 6,
      "outputs": [
        {
          "output_type": "error",
          "ename": "TypeError",
          "evalue": "'<' not supported between instances of 'list' and 'int'",
          "traceback": [
            "\u001b[0;31m---------------------------------------------------------------------------\u001b[0m",
            "\u001b[0;31mTypeError\u001b[0m                                 Traceback (most recent call last)",
            "\u001b[0;32m<ipython-input-6-d35b5f96deff>\u001b[0m in \u001b[0;36m<cell line: 6>\u001b[0;34m()\u001b[0m\n\u001b[1;32m      4\u001b[0m \u001b[0mj\u001b[0m\u001b[0;34m=\u001b[0m\u001b[0;34m[\u001b[0m\u001b[0mi\u001b[0m\u001b[0;34m]\u001b[0m\u001b[0;34m\u001b[0m\u001b[0;34m\u001b[0m\u001b[0m\n\u001b[1;32m      5\u001b[0m \u001b[0mk\u001b[0m\u001b[0;34m=\u001b[0m\u001b[0;34m[\u001b[0m\u001b[0;34m'a'\u001b[0m\u001b[0;34m]\u001b[0m\u001b[0;34m\u001b[0m\u001b[0;34m\u001b[0m\u001b[0m\n\u001b[0;32m----> 6\u001b[0;31m \u001b[0mprint\u001b[0m\u001b[0;34m(\u001b[0m\u001b[0mmin\u001b[0m\u001b[0;34m(\u001b[0m\u001b[0mg\u001b[0m\u001b[0;34m,\u001b[0m\u001b[0mh\u001b[0m\u001b[0;34m,\u001b[0m\u001b[0mi\u001b[0m\u001b[0;34m,\u001b[0m\u001b[0mj\u001b[0m\u001b[0;34m,\u001b[0m\u001b[0mk\u001b[0m\u001b[0;34m)\u001b[0m\u001b[0;34m)\u001b[0m\u001b[0;34m\u001b[0m\u001b[0;34m\u001b[0m\u001b[0m\n\u001b[0m",
            "\u001b[0;31mTypeError\u001b[0m: '<' not supported between instances of 'list' and 'int'"
          ]
        }
      ]
    },
    {
      "cell_type": "code",
      "source": [
        "myString=\"everydevel\"\n",
        "print(myString.count('ev'))"
      ],
      "metadata": {
        "colab": {
          "base_uri": "https://localhost:8080/"
        },
        "id": "uTiA-nA1sQm6",
        "outputId": "47bc5d67-9f6f-4b40-98bd-e49189b21fa9"
      },
      "execution_count": 7,
      "outputs": [
        {
          "output_type": "stream",
          "name": "stdout",
          "text": [
            "2\n"
          ]
        }
      ]
    },
    {
      "cell_type": "code",
      "source": [
        "a='BlockDMask'\n",
        "\n",
        "print('#1 a.count(\"k\")')\n",
        "print(a.count('k'))\n",
        "print('#2 a.count(\"DM\")')\n",
        "print(a.count('DM'))\n",
        "print(\"#3 a[2]+'~'+a[4]\")\n",
        "print(a[2]+'~'+a[4])\n",
        "print(\"#4 a.count('k',2,3)\")\n",
        "print(a.count('k',2,3))\n",
        "print(\"#5 a.count('k',2,4)\")\n",
        "print(a.count('k',2,4))\n",
        "print(\"#6 a.count('k',2,5)\")\n",
        "print(a.count('k',2,5))"
      ],
      "metadata": {
        "colab": {
          "base_uri": "https://localhost:8080/"
        },
        "id": "_Z9Lk5R6sgxz",
        "outputId": "3d3b8447-58cb-4850-ee6a-110cd77ade4d"
      },
      "execution_count": 8,
      "outputs": [
        {
          "output_type": "stream",
          "name": "stdout",
          "text": [
            "#1 a.count(\"k\")\n",
            "2\n",
            "#2 a.count(\"DM\")\n",
            "1\n",
            "#3 a[2]+'~'+a[4]\n",
            "o~k\n",
            "#4 a.count('k',2,3)\n",
            "0\n",
            "#5 a.count('k',2,4)\n",
            "0\n",
            "#6 a.count('k',2,5)\n",
            "1\n"
          ]
        }
      ]
    },
    {
      "cell_type": "code",
      "source": [
        "str=\"BlockDMask Blog.\";\n",
        "print(f\"str : {str}\\n\")\n",
        "\n",
        "#find 예제 1\n",
        "print(\"1. str.find('찾을 문자')\")\n",
        "result1=str.find('B')\n",
        "\n",
        "#문자가 있는 경우\n",
        "result2 = str.find('z')\n",
        "\n",
        "# #문자가 없는 경우\n",
        "print(f\"str.find('B') : {result1}\")\n",
        "print(f\"str.find('z') : {result2}\")\n",
        "\n",
        "result3 = str.find('ask')\n",
        "print(f\"str.find('ask') : {result3}\")"
      ],
      "metadata": {
        "colab": {
          "base_uri": "https://localhost:8080/"
        },
        "id": "Bo-ipiO8uCmD",
        "outputId": "a0739978-3373-406d-c856-d2d8350d80e1"
      },
      "execution_count": 11,
      "outputs": [
        {
          "output_type": "stream",
          "name": "stdout",
          "text": [
            "str : BlockDMask Blog.\n",
            "\n",
            "1. str.find('찾을 문자')\n",
            "str.find('B') : 0\n",
            "str.find('z') : -1\n",
            "str.find('ask') : 7\n"
          ]
        }
      ]
    },
    {
      "cell_type": "code",
      "source": [
        "result4=str.find('kkk')\n",
        "\n",
        "#문자열이 없는 경우\n",
        "print(f\"str.find('kkk') : {result4}\")\n",
        "print()"
      ],
      "metadata": {
        "colab": {
          "base_uri": "https://localhost:8080/"
        },
        "id": "i0C8_fxsus1z",
        "outputId": "8c35ae38-5d3d-44e2-a40c-46870355c793"
      },
      "execution_count": 12,
      "outputs": [
        {
          "output_type": "stream",
          "name": "stdout",
          "text": [
            "str.find('kkk') : -1\n",
            "\n"
          ]
        }
      ]
    },
    {
      "cell_type": "code",
      "source": [
        "print(\"2.str.find('찾을 문자',시작index)\")\n",
        "result5=str.find('o')\n",
        "result6=str.find('o',5)\n",
        "print(f\"str.find('o') : {result5}\")\n",
        "print(f\"str[5] : {str[5]}\")\n",
        "print(f\"str.find('o',5) : {result6}\")\n",
        "print()"
      ],
      "metadata": {
        "colab": {
          "base_uri": "https://localhost:8080/"
        },
        "id": "xccu4eAvu7g9",
        "outputId": "9755233a-d0cf-44ae-fdd5-f93c29fdb436"
      },
      "execution_count": 13,
      "outputs": [
        {
          "output_type": "stream",
          "name": "stdout",
          "text": [
            "2.str.find('찾을 문자',시작index)\n",
            "str.find('o') : 2\n",
            "str[5] : D\n",
            "str.find('o',5) : 13\n",
            "\n"
          ]
        }
      ]
    },
    {
      "cell_type": "code",
      "source": [
        "str='Hello World, Python!'\n",
        "\n",
        "if str.startswith('Hello'):\n",
        "    print('It starts with Hello')\n",
        "\n",
        "if not str.startswith('Python'):\n",
        "    print('It does not start with Python')\n",
        "\n",
        "print(str.startswith('Hello'))\n",
        "print(str.startswith('Python'))"
      ],
      "metadata": {
        "colab": {
          "base_uri": "https://localhost:8080/"
        },
        "id": "SCNH-jfpwRk5",
        "outputId": "b96e757c-2d4d-4606-e046-4510eda156ac"
      },
      "execution_count": 14,
      "outputs": [
        {
          "output_type": "stream",
          "name": "stdout",
          "text": [
            "It starts with Hello\n",
            "It does not start with Python\n",
            "True\n",
            "False\n"
          ]
        }
      ]
    },
    {
      "cell_type": "code",
      "source": [
        "str='Hello World, Python!'\n",
        "\n",
        "if str.startswith('Hello'):\n",
        "    print('It starts with Hello')\n",
        "\n",
        "if not str.endswith('Python'):\n",
        "    print('It does not start with Python')\n",
        "\n",
        "print(str.startswith('Hello',1))\n",
        "print(str.endswith('Python!',1,30))"
      ],
      "metadata": {
        "colab": {
          "base_uri": "https://localhost:8080/"
        },
        "id": "Szv4PtZlwfr0",
        "outputId": "50fe8e89-9c2f-4216-a588-922cd8b54f9e"
      },
      "execution_count": 15,
      "outputs": [
        {
          "output_type": "stream",
          "name": "stdout",
          "text": [
            "It starts with Hello\n",
            "It does not start with Python\n",
            "False\n",
            "True\n"
          ]
        }
      ]
    },
    {
      "cell_type": "code",
      "source": [
        "str='Hello World, Python!'\n",
        "\n",
        "print(len(str))\n",
        "\n",
        "if str.startswith('Hello'):\n",
        "    print('It starts with Hello')\n",
        "\n",
        "if not str.endswith('Python!'):\n",
        "    print('It does not start with Hello')\n",
        "\n",
        "print(str.startswith('Hello',1))\n",
        "print(str.endswith('Python!',1,20))"
      ],
      "metadata": {
        "colab": {
          "base_uri": "https://localhost:8080/"
        },
        "id": "cAx4iSdLwraM",
        "outputId": "bcfda6cd-8bd6-403b-e693-8de30a4f322d"
      },
      "execution_count": 16,
      "outputs": [
        {
          "output_type": "stream",
          "name": "stdout",
          "text": [
            "20\n",
            "It starts with Hello\n",
            "False\n",
            "True\n"
          ]
        }
      ]
    },
    {
      "cell_type": "code",
      "source": [
        "str=\"this is string example....wow!!!\"\n",
        "\n",
        "suffix = \"wow!!!\"\n",
        "print(str.endswith(suffix))\n",
        "print(str.endswith(suffix,20))\n",
        "\n",
        "suffix = \"is\"\n",
        "print(str.endswith(suffix,2,4))\n",
        "print(str.endswith(suffix,2,6))"
      ],
      "metadata": {
        "colab": {
          "base_uri": "https://localhost:8080/"
        },
        "id": "DOQKmMvyxMzE",
        "outputId": "dc9f350e-d617-45d7-eea3-afabf3566e4a"
      },
      "execution_count": 17,
      "outputs": [
        {
          "output_type": "stream",
          "name": "stdout",
          "text": [
            "True\n",
            "True\n",
            "True\n",
            "False\n"
          ]
        }
      ]
    },
    {
      "cell_type": "code",
      "source": [
        "str=\"this is string example....wow!!!\"\n",
        "\n",
        "print(len(str))\n",
        "suffix = \"wow!!!\"\n",
        "print(str.endswith(suffix))\n",
        "print(str.endswith(suffix,20))\n",
        "\n",
        "suffix = \"is\"\n",
        "print(str.endswith(suffix,2,4))\n",
        "print(str.endswith(suffix,2,7))"
      ],
      "metadata": {
        "colab": {
          "base_uri": "https://localhost:8080/"
        },
        "id": "JIpTkdVYxk-j",
        "outputId": "899fe1ca-75e4-4c4e-b958-f56a28a71576"
      },
      "execution_count": 18,
      "outputs": [
        {
          "output_type": "stream",
          "name": "stdout",
          "text": [
            "32\n",
            "True\n",
            "True\n",
            "True\n",
            "True\n"
          ]
        }
      ]
    },
    {
      "cell_type": "code",
      "source": [
        "text = 'Welcome to Codetorial'\n",
        "\n",
        "pos_Code_last = text.rindex('code')\n",
        "print(pos_Code_last)\n",
        "\n",
        "pos_code_last = text.rfind('code')\n",
        "print(pos_code_last)\n",
        "\n",
        "pos_code_last = text.rindex('code')\n",
        "print(pos_code_last)"
      ],
      "metadata": {
        "colab": {
          "base_uri": "https://localhost:8080/",
          "height": 221
        },
        "id": "i7QMytc8yNJ9",
        "outputId": "48192863-1a54-4c61-97ce-0ffd8dc94c87"
      },
      "execution_count": 19,
      "outputs": [
        {
          "output_type": "error",
          "ename": "ValueError",
          "evalue": "substring not found",
          "traceback": [
            "\u001b[0;31m---------------------------------------------------------------------------\u001b[0m",
            "\u001b[0;31mValueError\u001b[0m                                Traceback (most recent call last)",
            "\u001b[0;32m<ipython-input-19-f086f0cb33c1>\u001b[0m in \u001b[0;36m<cell line: 3>\u001b[0;34m()\u001b[0m\n\u001b[1;32m      1\u001b[0m \u001b[0mtext\u001b[0m \u001b[0;34m=\u001b[0m \u001b[0;34m'Welcome to Codetorial'\u001b[0m\u001b[0;34m\u001b[0m\u001b[0;34m\u001b[0m\u001b[0m\n\u001b[1;32m      2\u001b[0m \u001b[0;34m\u001b[0m\u001b[0m\n\u001b[0;32m----> 3\u001b[0;31m \u001b[0mpos_Code_last\u001b[0m \u001b[0;34m=\u001b[0m \u001b[0mtext\u001b[0m\u001b[0;34m.\u001b[0m\u001b[0mrindex\u001b[0m\u001b[0;34m(\u001b[0m\u001b[0;34m'code'\u001b[0m\u001b[0;34m)\u001b[0m\u001b[0;34m\u001b[0m\u001b[0;34m\u001b[0m\u001b[0m\n\u001b[0m\u001b[1;32m      4\u001b[0m \u001b[0mprint\u001b[0m\u001b[0;34m(\u001b[0m\u001b[0mpos_Code_last\u001b[0m\u001b[0;34m)\u001b[0m\u001b[0;34m\u001b[0m\u001b[0;34m\u001b[0m\u001b[0m\n\u001b[1;32m      5\u001b[0m \u001b[0;34m\u001b[0m\u001b[0m\n",
            "\u001b[0;31mValueError\u001b[0m: substring not found"
          ]
        }
      ]
    },
    {
      "cell_type": "code",
      "source": [
        "a=[123,421,212,11,24,102,29,92,10]\n",
        "print(a.index(212))\n",
        "\n",
        "# 리스트.index(x)\n",
        "# 데이터 x의 위치 반환\n",
        "nums_list=[1,2,3,3,3,5,6,8,9]\n",
        "nums_tuple=(1,2,3,3,3,5,6,8,9)\n",
        "nums_set={1,2,3,5,6,8,9}\n",
        "\n",
        "print(nums_list.index(2)) #1\n",
        "print(nums_list.index(3)) #2\n",
        "# - 찾고자하는 데이터가 여러개 존재할 경우, 가장 작은 위치 값 반환\n",
        "\n",
        "print(nums_tuple.index(2)) #1\n",
        "print(nums_tuple.index(3)) #2"
      ],
      "metadata": {
        "colab": {
          "base_uri": "https://localhost:8080/"
        },
        "id": "VNarR9wqyvYd",
        "outputId": "3368af95-8e60-4f79-ba7f-824692fefde3"
      },
      "execution_count": 20,
      "outputs": [
        {
          "output_type": "stream",
          "name": "stdout",
          "text": [
            "2\n",
            "1\n",
            "2\n",
            "1\n",
            "2\n"
          ]
        }
      ]
    }
  ]
}