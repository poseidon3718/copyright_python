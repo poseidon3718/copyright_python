{
  "nbformat": 4,
  "nbformat_minor": 0,
  "metadata": {
    "colab": {
      "provenance": [],
      "authorship_tag": "ABX9TyOEITWxHQqF6jTQXekZhBF2",
      "include_colab_link": true
    },
    "kernelspec": {
      "name": "python3",
      "display_name": "Python 3"
    },
    "language_info": {
      "name": "python"
    }
  },
  "cells": [
    {
      "cell_type": "markdown",
      "metadata": {
        "id": "view-in-github",
        "colab_type": "text"
      },
      "source": [
        "<a href=\"https://colab.research.google.com/github/poseidon3718/copyright_python/blob/main/Class_5.ipynb\" target=\"_parent\"><img src=\"https://colab.research.google.com/assets/colab-badge.svg\" alt=\"Open In Colab\"/></a>"
      ]
    },
    {
      "cell_type": "markdown",
      "source": [
        "day 5 프로그램"
      ],
      "metadata": {
        "id": "r9vxBNC1uxro"
      }
    },
    {
      "cell_type": "code",
      "execution_count": 1,
      "metadata": {
        "colab": {
          "base_uri": "https://localhost:8080/"
        },
        "id": "a-MfvO-6uVyu",
        "outputId": "d2c4f5ae-4cc5-43e8-f970-ccd6bb90ef09"
      },
      "outputs": [
        {
          "output_type": "stream",
          "name": "stdout",
          "text": [
            "이름이 맞습니다.\n"
          ]
        }
      ],
      "source": [
        "name = \"BlockDMask\"\n",
        "if name == \"BlockDMask\":\n",
        " print(\"이름이 맞습니다.\")\n",
        "else:\n",
        " print(\"이름이 다릅니다.\")"
      ]
    },
    {
      "cell_type": "code",
      "source": [
        "pocket = 1000\n",
        "if pocket == 1000:\n",
        " print(\"복권 구매\")\n",
        "elif pocket == 500:\n",
        " print(\"껌 구매\")\n",
        "else:\n",
        " print(\"집이나 가자\")"
      ],
      "metadata": {
        "colab": {
          "base_uri": "https://localhost:8080/"
        },
        "id": "c64j99Xa0nGw",
        "outputId": "66271b8b-f84b-436b-bd79-41c92f3a03f2"
      },
      "execution_count": 2,
      "outputs": [
        {
          "output_type": "stream",
          "name": "stdout",
          "text": [
            "복권 구매\n"
          ]
        }
      ]
    },
    {
      "cell_type": "code",
      "source": [
        "a = '사과'\n",
        "b = '바나나'\n",
        "c = '치즈'\n",
        "if a == '사과' or b == '안바나나':\n",
        "  print('사과 이거나 바나나 입니다')\n",
        "if a == '사과' and b == '안바나나':\n",
        "  print('사과 이고 바나나 입니다')\n",
        "if not a == '사과' :\n",
        "  print('사과가 아니어야 여기 들어옵니다.')"
      ],
      "metadata": {
        "colab": {
          "base_uri": "https://localhost:8080/"
        },
        "id": "6-k5vCtl01zH",
        "outputId": "4f61b322-486b-4ff4-a565-9a49708141bf"
      },
      "execution_count": 3,
      "outputs": [
        {
          "output_type": "stream",
          "name": "stdout",
          "text": [
            "사과 이거나 바나나 입니다\n"
          ]
        }
      ]
    },
    {
      "cell_type": "code",
      "source": [
        "a = [1,2,3,4,5,6,7,8]\n",
        "if 1 in a:\n",
        "  print(\"a 리스트에 1이 포함되어있습니다.\")\n",
        "elif 10 in a:\n",
        "  print(\"a 리스트에 10이 포함되어있습니다.\")"
      ],
      "metadata": {
        "colab": {
          "base_uri": "https://localhost:8080/"
        },
        "id": "IG5JZVVH3QiF",
        "outputId": "182bf9f0-43ed-4813-ce48-f5ead6867762"
      },
      "execution_count": 4,
      "outputs": [
        {
          "output_type": "stream",
          "name": "stdout",
          "text": [
            "a 리스트에 1이 포함되어있습니다.\n"
          ]
        }
      ]
    },
    {
      "cell_type": "code",
      "source": [
        "p_class = \"Z\"\n",
        "sel_amount = 79900\n",
        "\n",
        "if p_class == \"A\":\n",
        "  sel_amount *= 0.7\n",
        "  print(sel_amount)\n",
        "elif p_class == \"B\":\n",
        "  sel_amount *= 0.85\n",
        "  print(sel_amount)\n",
        "elif p_class == \"C\":\n",
        "  sel_amount *= 0.92\n",
        "  print(sel_amount)\n",
        "elif p_class == \"Z\":\n",
        "  sel_amount += 5000\n",
        "  print(sel_amount)"
      ],
      "metadata": {
        "colab": {
          "base_uri": "https://localhost:8080/"
        },
        "id": "UOig1JLu3a7m",
        "outputId": "ccc9218d-cf73-47f2-aacb-6228c0dea10e"
      },
      "execution_count": 5,
      "outputs": [
        {
          "output_type": "stream",
          "name": "stdout",
          "text": [
            "84900\n"
          ]
        }
      ]
    },
    {
      "cell_type": "code",
      "source": [
        "x = 11\n",
        "\n",
        "if x< 10:\n",
        "  print('x는 10보다 작아!')\n",
        "else:\n",
        "  print('x는 10보다 작아 않아!')"
      ],
      "metadata": {
        "colab": {
          "base_uri": "https://localhost:8080/"
        },
        "id": "pfmhE_Rc6DLo",
        "outputId": "c7a17d03-c44f-4b78-8259-b7273ca9ef03"
      },
      "execution_count": 6,
      "outputs": [
        {
          "output_type": "stream",
          "name": "stdout",
          "text": [
            "x는 10보다 작아 않아!\n"
          ]
        }
      ]
    },
    {
      "cell_type": "code",
      "source": [
        "x = 2\n",
        "\n",
        "if x%2 == 0:\n",
        "  print('x는 짝수야!')\n",
        "else:\n",
        "  print('x는 홀수야!')"
      ],
      "metadata": {
        "colab": {
          "base_uri": "https://localhost:8080/"
        },
        "id": "KHrItjXv6NBz",
        "outputId": "ef590c03-3c37-4e6e-d9e8-2a8b7eb1acbe"
      },
      "execution_count": 7,
      "outputs": [
        {
          "output_type": "stream",
          "name": "stdout",
          "text": [
            "x는 짝수야!\n"
          ]
        }
      ]
    },
    {
      "cell_type": "code",
      "source": [
        "x = 3\n",
        "\n",
        "if x < 10:\n",
        "  print('x는 10보다 작아!')\n",
        "  if x%2 == 0:\n",
        "    print('x는 짝수야!')\n",
        "  else:\n",
        "    print('x는 홀수야!')\n",
        "else:\n",
        "  print('x는 10보다 커!')\n",
        "  if x%2 == 0:\n",
        "    print('x는 짝수야!')\n",
        "  else:\n",
        "    print('x는 홀수야!')"
      ],
      "metadata": {
        "colab": {
          "base_uri": "https://localhost:8080/"
        },
        "id": "ZRTKavZXBUBA",
        "outputId": "812c0bc4-275a-4921-a537-89efaff9cd2f"
      },
      "execution_count": 8,
      "outputs": [
        {
          "output_type": "stream",
          "name": "stdout",
          "text": [
            "x는 10보다 작아!\n",
            "x는 홀수야!\n"
          ]
        }
      ]
    },
    {
      "cell_type": "code",
      "source": [
        "x = 3\n",
        "\n",
        "if x<10 and x%2==0:\n",
        "  print('x는 10보다 작으면서 짝수야!')\n",
        "if x<10 and not x%2==0:\n",
        "  print('x는 10보다 작으면서 홀수야!')\n",
        "if not x<10 and x%2==0:\n",
        "  print('x는 10보다 크면서 짝수야!')\n",
        "if not x<10 and not x%2==0:\n",
        "  print('x는 10보다 크면서 홀수야!')"
      ],
      "metadata": {
        "colab": {
          "base_uri": "https://localhost:8080/"
        },
        "id": "J_NrrCq_BfG4",
        "outputId": "d08aedf9-dccb-4508-f924-a29739db7f21"
      },
      "execution_count": 9,
      "outputs": [
        {
          "output_type": "stream",
          "name": "stdout",
          "text": [
            "x는 10보다 작으면서 홀수야!\n"
          ]
        }
      ]
    },
    {
      "cell_type": "markdown",
      "source": [
        "while 문"
      ],
      "metadata": {
        "id": "X4NFhBdXEBMZ"
      }
    },
    {
      "cell_type": "code",
      "source": [
        "treeHit = 0\n",
        "\n",
        "while treeHit < 10:\n",
        "  treeHit += 1\n",
        "  print(\"나무를 %d번 찍었습니다.\"%treeHit)\n",
        "  if treeHit == 10:\n",
        "    print(\"나무 넘어갑니다.\")"
      ],
      "metadata": {
        "colab": {
          "base_uri": "https://localhost:8080/"
        },
        "id": "X8eNQ66jCNsD",
        "outputId": "e2e9adeb-d1a3-4009-b0e9-9b20102f610c"
      },
      "execution_count": 10,
      "outputs": [
        {
          "output_type": "stream",
          "name": "stdout",
          "text": [
            "나무를 1번 찍었습니다.\n",
            "나무를 2번 찍었습니다.\n",
            "나무를 3번 찍었습니다.\n",
            "나무를 4번 찍었습니다.\n",
            "나무를 5번 찍었습니다.\n",
            "나무를 6번 찍었습니다.\n",
            "나무를 7번 찍었습니다.\n",
            "나무를 8번 찍었습니다.\n",
            "나무를 9번 찍었습니다.\n",
            "나무를 10번 찍었습니다.\n",
            "나무 넘어갑니다.\n"
          ]
        }
      ]
    },
    {
      "cell_type": "code",
      "source": [
        "while True:\n",
        "    print(\"Ctrl+C를 눌러야 while문을 빠져나갈 수 있습니다.\")"
      ],
      "metadata": {
        "id": "YOzgrHUoEAwp"
      },
      "execution_count": null,
      "outputs": []
    },
    {
      "cell_type": "code",
      "source": [
        "coffee = 10\n",
        "money = 300\n",
        "while money:\n",
        "  print(\"돈을 받았으니 커피를 줍니다.\")\n",
        "  coffee -= 1\n",
        "  print(\"남은 커피의 양은 %d개 입니다.\"%coffee)\n",
        "  if coffee == 0:\n",
        "    print(\"커피가 다 떨어졌습니다. 판매를 중지합니다.\")\n",
        "    break"
      ],
      "metadata": {
        "colab": {
          "base_uri": "https://localhost:8080/"
        },
        "id": "awew97OVCZfd",
        "outputId": "fa88b00d-3fe1-4313-c373-4ab048171ac1"
      },
      "execution_count": 11,
      "outputs": [
        {
          "output_type": "stream",
          "name": "stdout",
          "text": [
            "돈을 받았으니 커피를 줍니다.\n",
            "남은 커피의 양은 9개 입니다.\n",
            "돈을 받았으니 커피를 줍니다.\n",
            "남은 커피의 양은 8개 입니다.\n",
            "돈을 받았으니 커피를 줍니다.\n",
            "남은 커피의 양은 7개 입니다.\n",
            "돈을 받았으니 커피를 줍니다.\n",
            "남은 커피의 양은 6개 입니다.\n",
            "돈을 받았으니 커피를 줍니다.\n",
            "남은 커피의 양은 5개 입니다.\n",
            "돈을 받았으니 커피를 줍니다.\n",
            "남은 커피의 양은 4개 입니다.\n",
            "돈을 받았으니 커피를 줍니다.\n",
            "남은 커피의 양은 3개 입니다.\n",
            "돈을 받았으니 커피를 줍니다.\n",
            "남은 커피의 양은 2개 입니다.\n",
            "돈을 받았으니 커피를 줍니다.\n",
            "남은 커피의 양은 1개 입니다.\n",
            "돈을 받았으니 커피를 줍니다.\n",
            "남은 커피의 양은 0개 입니다.\n",
            "커피가 다 떨어졌습니다. 판매를 중지합니다.\n"
          ]
        }
      ]
    },
    {
      "cell_type": "code",
      "source": [
        "i = 0\n",
        "result1 = 0\n",
        "while i < 100:\n",
        "    i = i+2\n",
        "    #if i % 2 ==0:\n",
        "    print('1번 방법 : {0} {1}'.format(i,result1))\n",
        "    result1 = result1 + i\n",
        "\n",
        "print('1번 방법 : {0}'.format(result1))"
      ],
      "metadata": {
        "colab": {
          "base_uri": "https://localhost:8080/"
        },
        "id": "OK5t-y9NCp8x",
        "outputId": "7ffe2806-270c-4e2e-9440-2cd9eaef00c6"
      },
      "execution_count": 16,
      "outputs": [
        {
          "output_type": "stream",
          "name": "stdout",
          "text": [
            "1번 방법 : 2 0\n",
            "1번 방법 : 4 2\n",
            "1번 방법 : 6 6\n",
            "1번 방법 : 8 12\n",
            "1번 방법 : 10 20\n",
            "1번 방법 : 12 30\n",
            "1번 방법 : 14 42\n",
            "1번 방법 : 16 56\n",
            "1번 방법 : 18 72\n",
            "1번 방법 : 20 90\n",
            "1번 방법 : 22 110\n",
            "1번 방법 : 24 132\n",
            "1번 방법 : 26 156\n",
            "1번 방법 : 28 182\n",
            "1번 방법 : 30 210\n",
            "1번 방법 : 32 240\n",
            "1번 방법 : 34 272\n",
            "1번 방법 : 36 306\n",
            "1번 방법 : 38 342\n",
            "1번 방법 : 40 380\n",
            "1번 방법 : 42 420\n",
            "1번 방법 : 44 462\n",
            "1번 방법 : 46 506\n",
            "1번 방법 : 48 552\n",
            "1번 방법 : 50 600\n",
            "1번 방법 : 52 650\n",
            "1번 방법 : 54 702\n",
            "1번 방법 : 56 756\n",
            "1번 방법 : 58 812\n",
            "1번 방법 : 60 870\n",
            "1번 방법 : 62 930\n",
            "1번 방법 : 64 992\n",
            "1번 방법 : 66 1056\n",
            "1번 방법 : 68 1122\n",
            "1번 방법 : 70 1190\n",
            "1번 방법 : 72 1260\n",
            "1번 방법 : 74 1332\n",
            "1번 방법 : 76 1406\n",
            "1번 방법 : 78 1482\n",
            "1번 방법 : 80 1560\n",
            "1번 방법 : 82 1640\n",
            "1번 방법 : 84 1722\n",
            "1번 방법 : 86 1806\n",
            "1번 방법 : 88 1892\n",
            "1번 방법 : 90 1980\n",
            "1번 방법 : 92 2070\n",
            "1번 방법 : 94 2162\n",
            "1번 방법 : 96 2256\n",
            "1번 방법 : 98 2352\n",
            "1번 방법 : 100 2450\n",
            "1번 방법 : 2550\n"
          ]
        }
      ]
    },
    {
      "cell_type": "code",
      "source": [
        "j = 0\n",
        "result2 = 0\n",
        "while True:\n",
        "  if j > 100:\n",
        "    break\n",
        "\n",
        "  j +=1\n",
        "  if j % 2 == 0:\n",
        "    result2 += j\n",
        "\n",
        "print('2번 방법 (break) : {0}'.format(result2))"
      ],
      "metadata": {
        "colab": {
          "base_uri": "https://localhost:8080/"
        },
        "id": "Q3jPOrCMDoGB",
        "outputId": "571cc2a4-160c-44b1-bf8e-31ecbad9cb7a"
      },
      "execution_count": 17,
      "outputs": [
        {
          "output_type": "stream",
          "name": "stdout",
          "text": [
            "2번 방법 (break) : 2550\n"
          ]
        }
      ]
    },
    {
      "cell_type": "code",
      "source": [
        "k = 0\n",
        "result3 = 0\n",
        "while k < 100:\n",
        "  k += 1\n",
        "  if k % 2 != 0:\n",
        "    continue\n",
        "\n",
        "  result3 += k\n",
        "\n",
        "print('3번 방법 (continue) : {0}'.format(result3))"
      ],
      "metadata": {
        "colab": {
          "base_uri": "https://localhost:8080/"
        },
        "id": "De1F9GlSHh5Y",
        "outputId": "261be6fc-1f06-46df-bfdd-4f725efbed1a"
      },
      "execution_count": 21,
      "outputs": [
        {
          "output_type": "stream",
          "name": "stdout",
          "text": [
            "3번 방법 (continue) : 2550\n"
          ]
        }
      ]
    }
  ]
}