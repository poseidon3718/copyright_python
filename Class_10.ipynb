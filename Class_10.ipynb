{
  "nbformat": 4,
  "nbformat_minor": 0,
  "metadata": {
    "colab": {
      "provenance": [],
      "authorship_tag": "ABX9TyP2d5kT2SZ0prLLuq3y7QVy",
      "include_colab_link": true
    },
    "kernelspec": {
      "name": "python3",
      "display_name": "Python 3"
    },
    "language_info": {
      "name": "python"
    }
  },
  "cells": [
    {
      "cell_type": "markdown",
      "metadata": {
        "id": "view-in-github",
        "colab_type": "text"
      },
      "source": [
        "<a href=\"https://colab.research.google.com/github/poseidon3718/copyright_python/blob/main/Class_10.ipynb\" target=\"_parent\"><img src=\"https://colab.research.google.com/assets/colab-badge.svg\" alt=\"Open In Colab\"/></a>"
      ]
    },
    {
      "cell_type": "markdown",
      "source": [
        "day 10 프로그램"
      ],
      "metadata": {
        "id": "SxoDx82V-t9H"
      }
    },
    {
      "cell_type": "code",
      "execution_count": 1,
      "metadata": {
        "colab": {
          "base_uri": "https://localhost:8080/"
        },
        "id": "BrF2EriczzTt",
        "outputId": "03ec9df2-63df-4549-a468-1f3e01f55fae"
      },
      "outputs": [
        {
          "output_type": "stream",
          "name": "stdout",
          "text": [
            "BlockDMask\n",
            "BlockDMask\n",
            "BlockDMask\n",
            "BlockDMask\n",
            "BlockDMask\n",
            "BlockDMask\n"
          ]
        }
      ],
      "source": [
        "def func1():\n",
        "    print('BlockDMask')\n",
        "\n",
        "#함수 호출\n",
        "func1()\n",
        "func1()\n",
        "func1()\n",
        "\n",
        "for i in range(3):\n",
        "    func1()"
      ]
    },
    {
      "cell_type": "code",
      "source": [
        "def func2(a,b):\n",
        "    print(f'{a} 곱하기 {b} = {a+b}')\n",
        "\n",
        "#함수 호출\n",
        "func2(1,2)\n",
        "func2(1,3)\n",
        "func2(2,4)"
      ],
      "metadata": {
        "colab": {
          "base_uri": "https://localhost:8080/"
        },
        "id": "TviNbRCo_fNs",
        "outputId": "d7b9eaec-c9c9-42d9-9eef-77474e95ad23"
      },
      "execution_count": 2,
      "outputs": [
        {
          "output_type": "stream",
          "name": "stdout",
          "text": [
            "1 곱하기 2 = 3\n",
            "1 곱하기 3 = 4\n",
            "2 곱하기 4 = 6\n"
          ]
        }
      ]
    },
    {
      "cell_type": "code",
      "source": [
        "def func3():\n",
        "    return \"abcdefg\"\n",
        "\n",
        "#함수 호출\n",
        "\n",
        "a=func3()\n",
        "print(a,\"GG\", sep=\" \" )"
      ],
      "metadata": {
        "colab": {
          "base_uri": "https://localhost:8080/"
        },
        "id": "EAP_5J6y_pSO",
        "outputId": "443df62e-0e2d-469e-a355-80f9ae63e4e7"
      },
      "execution_count": 3,
      "outputs": [
        {
          "output_type": "stream",
          "name": "stdout",
          "text": [
            "abcdefg GG\n"
          ]
        }
      ]
    },
    {
      "cell_type": "code",
      "source": [
        "def func4(a,b):\n",
        "\treturn a + b\n",
        "\n",
        "a = input()\n",
        "c = func4(int(a), 9)\n",
        "print(c)"
      ],
      "metadata": {
        "colab": {
          "base_uri": "https://localhost:8080/"
        },
        "id": "_8l2_8u4XTYF",
        "outputId": "6fd5e8c7-4911-4212-ade0-8ba92dbfa8b0"
      },
      "execution_count": 4,
      "outputs": [
        {
          "output_type": "stream",
          "name": "stdout",
          "text": [
            "3\n",
            "12\n"
          ]
        }
      ]
    },
    {
      "cell_type": "code",
      "source": [
        "def func6(*args):\n",
        "    a=0\n",
        "    for i in args:\n",
        "        a = a+i\n",
        "    return a\n",
        "\n",
        "b = func6(1,5)\n",
        "print(b)\n",
        "\n",
        "c=func6(2,3,4,5)\n",
        "print(c)\n",
        "\n",
        "d=func6(1,2,3,4,5,4,3,2,1)\n",
        "print(d)\n",
        "\n",
        "e=func6()\n",
        "print(e)"
      ],
      "metadata": {
        "colab": {
          "base_uri": "https://localhost:8080/"
        },
        "id": "THGDr5mQYlWu",
        "outputId": "95fa0d40-4119-4f4c-b351-0580c5836e8a"
      },
      "execution_count": 5,
      "outputs": [
        {
          "output_type": "stream",
          "name": "stdout",
          "text": [
            "6\n",
            "14\n",
            "25\n",
            "0\n"
          ]
        }
      ]
    },
    {
      "cell_type": "code",
      "source": [
        "def test(*val):\n",
        "    for i in val:\n",
        "        print(i)\n",
        "\n",
        "test(1,'a','c',3)"
      ],
      "metadata": {
        "colab": {
          "base_uri": "https://localhost:8080/"
        },
        "id": "wqAM9ULxYuiV",
        "outputId": "d57f07cf-98cc-44f6-bda8-d9c2e2140476"
      },
      "execution_count": 6,
      "outputs": [
        {
          "output_type": "stream",
          "name": "stdout",
          "text": [
            "1\n",
            "a\n",
            "c\n",
            "3\n"
          ]
        }
      ]
    },
    {
      "cell_type": "code",
      "source": [
        "def sum_mul(choice,*val):\n",
        "    if choice =='sum':\n",
        "        result = 0\n",
        "        for i in val:\n",
        "            result = result + i\n",
        "    elif choice == 'mul':\n",
        "        result = 1\n",
        "        for i in val:\n",
        "            result = result * i\n",
        "    print()\n",
        "    return result\n",
        "\n",
        "print(sum_mul('sum',1,2,3,4,5))\n",
        "\n",
        "print(sum_mul('mul',1,2,3,4,5))"
      ],
      "metadata": {
        "colab": {
          "base_uri": "https://localhost:8080/"
        },
        "id": "nSQBp4zqY5WN",
        "outputId": "4fcbd42a-84fc-4f3e-99dd-37bed1e41598"
      },
      "execution_count": 7,
      "outputs": [
        {
          "output_type": "stream",
          "name": "stdout",
          "text": [
            "\n",
            "15\n",
            "\n",
            "120\n"
          ]
        }
      ]
    },
    {
      "cell_type": "code",
      "source": [
        "def report(name,age,score):\n",
        "    print(name,score)\n",
        "\n",
        "report(age=10, name=\"Kim\",score=80)\n",
        "report(\"Kim\",10,80)"
      ],
      "metadata": {
        "colab": {
          "base_uri": "https://localhost:8080/"
        },
        "id": "gZyFkWnoZBHF",
        "outputId": "4d7c837a-43d9-4542-8f35-3940f8e55d97"
      },
      "execution_count": 8,
      "outputs": [
        {
          "output_type": "stream",
          "name": "stdout",
          "text": [
            "Kim 80\n",
            "Kim 80\n"
          ]
        }
      ]
    },
    {
      "cell_type": "code",
      "source": [
        "'''\n",
        "# 함수를 안쓴 경우\n",
        "for i in range(1,10):\n",
        "    print(f'{2}x{i} = {2*i}')\n",
        "for i in range(1,10):\n",
        "    print(f'{3}x{i} = {3*i}')\n",
        "\n",
        "print()\n",
        "print()\n",
        "print()\n",
        "'''\n",
        "\n",
        "def gugudan(num):\n",
        "    for i in range(1,10):\n",
        "        print(f'{num}x{i}={num*i}')\n",
        "    print()\n",
        "#구구단 출력\n",
        "gugudan(2)\n",
        "\n",
        "gugudan(4)\n"
      ],
      "metadata": {
        "colab": {
          "base_uri": "https://localhost:8080/"
        },
        "id": "q-PfIBGeZJ-d",
        "outputId": "f431da14-148f-44e6-a56d-8c319ce8bdcb"
      },
      "execution_count": 10,
      "outputs": [
        {
          "output_type": "stream",
          "name": "stdout",
          "text": [
            "2x1=2\n",
            "2x2=4\n",
            "2x3=6\n",
            "2x4=8\n",
            "2x5=10\n",
            "2x6=12\n",
            "2x7=14\n",
            "2x8=16\n",
            "2x9=18\n",
            "\n",
            "4x1=4\n",
            "4x2=8\n",
            "4x3=12\n",
            "4x4=16\n",
            "4x5=20\n",
            "4x6=24\n",
            "4x7=28\n",
            "4x8=32\n",
            "4x9=36\n",
            "\n"
          ]
        }
      ]
    },
    {
      "cell_type": "code",
      "source": [
        "#디폴트 파라미터 예제 1\n",
        "def func1(a, b=5, c=10):\n",
        "    return a + b + c\n",
        "\n",
        "func1(1,2,3)\n",
        "func1(1,2)\n",
        "func1(1)\n",
        "\n",
        "#디폴트 파라미터 예제 2\n",
        "def func2(a=10, b=20):\n",
        "    return a+b\n",
        "\n",
        "print(func2(1, 2))\n",
        "print(func2(1))\n",
        "print(func2())"
      ],
      "metadata": {
        "colab": {
          "base_uri": "https://localhost:8080/"
        },
        "id": "IvCE65IRZgmu",
        "outputId": "04b2d2de-79dd-4c3e-8cd5-896fb7eebee5"
      },
      "execution_count": 11,
      "outputs": [
        {
          "output_type": "stream",
          "name": "stdout",
          "text": [
            "3\n",
            "21\n",
            "30\n"
          ]
        }
      ]
    },
    {
      "cell_type": "code",
      "source": [
        "#디폴트 파라미터 예제 3 - error\n",
        " def func3(a=10,b,c): #error\n",
        "      return a+b+c\n",
        "func3(1,2)\n",
        "\n",
        "func3(,1,2)\n",
        "\n",
        "  File \"<ipython-input-17-320d5d627c40>\", line 2\n",
        "    def func3(a=10,b,c): #error\n",
        "                   ^\n",
        "SyntaxError: non-default argument follows default argument"
      ],
      "metadata": {
        "colab": {
          "base_uri": "https://localhost:8080/",
          "height": 110
        },
        "id": "Sd_wUzoJZoFl",
        "outputId": "9d55291f-91c7-4090-d7a1-acde4afa89c1"
      },
      "execution_count": 12,
      "outputs": [
        {
          "output_type": "error",
          "ename": "IndentationError",
          "evalue": "unexpected indent (<ipython-input-12-bec6d0a346dc>, line 2)",
          "traceback": [
            "\u001b[0;36m  File \u001b[0;32m\"<ipython-input-12-bec6d0a346dc>\"\u001b[0;36m, line \u001b[0;32m2\u001b[0m\n\u001b[0;31m    def func3(a=10,b,c): #error\u001b[0m\n\u001b[0m    ^\u001b[0m\n\u001b[0;31mIndentationError\u001b[0m\u001b[0;31m:\u001b[0m unexpected indent\n"
          ]
        }
      ]
    },
    {
      "cell_type": "code",
      "source": [
        "def comp(score=0):\n",
        "    if score ==0:\n",
        "        return 0\n",
        "    elif score > 50:\n",
        "        return 2\n",
        "    else:\n",
        "        return 1\n",
        "\n",
        "grade = comp (40)\n",
        "print(\"Grade is\", grade,\"for\",40)\n",
        "\n",
        "grade = comp (80)\n",
        "print(\"Grade is\",grade,\"for\",80)\n",
        "\n",
        "grade = comp()\n",
        "print(\"Grade is\",grade,\"for no score\")"
      ],
      "metadata": {
        "colab": {
          "base_uri": "https://localhost:8080/"
        },
        "id": "T1f5Of17Z2E9",
        "outputId": "d1f445e1-6e07-4c4c-9909-cf4cfe472105"
      },
      "execution_count": 13,
      "outputs": [
        {
          "output_type": "stream",
          "name": "stdout",
          "text": [
            "Grade is 1 for 40\n",
            "Grade is 2 for 80\n",
            "Grade is 0 for no score\n"
          ]
        }
      ]
    }
  ]
}