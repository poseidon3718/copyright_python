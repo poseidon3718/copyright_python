{
  "nbformat": 4,
  "nbformat_minor": 0,
  "metadata": {
    "colab": {
      "provenance": [],
      "authorship_tag": "ABX9TyOenxQJ9W/u72wM2bmi4yyh",
      "include_colab_link": true
    },
    "kernelspec": {
      "name": "python3",
      "display_name": "Python 3"
    },
    "language_info": {
      "name": "python"
    }
  },
  "cells": [
    {
      "cell_type": "markdown",
      "metadata": {
        "id": "view-in-github",
        "colab_type": "text"
      },
      "source": [
        "<a href=\"https://colab.research.google.com/github/poseidon3718/copyright_python/blob/main/Class_8.ipynb\" target=\"_parent\"><img src=\"https://colab.research.google.com/assets/colab-badge.svg\" alt=\"Open In Colab\"/></a>"
      ]
    },
    {
      "cell_type": "markdown",
      "source": [
        "day 8 프로그램"
      ],
      "metadata": {
        "id": "-GMOAyxi5U7G"
      }
    },
    {
      "cell_type": "code",
      "execution_count": 1,
      "metadata": {
        "colab": {
          "base_uri": "https://localhost:8080/"
        },
        "id": "wusqPZ2j5RZS",
        "outputId": "f18a6214-7bd7-4b69-b039-8e87ff9e3b6e"
      },
      "outputs": [
        {
          "output_type": "stream",
          "name": "stdout",
          "text": [
            "True\n",
            "True\n",
            "False\n",
            "False\n",
            "True\n",
            "True\n",
            "False\n"
          ]
        }
      ],
      "source": [
        "text1 = \"네이스123\"\n",
        "text2 = \"123123\"\n",
        "text3 = \"!@#$\"\n",
        "text4 = \"!@#$1234\"\n",
        "text5 = \"wtf\"\n",
        "text6 = \"wtf123123\"\n",
        "text7 = \"한글!\"\n",
        "print(text1.isalnum())\n",
        "print(text2.isalnum())\n",
        "print(text3.isalnum())\n",
        "print(text4.isalnum())\n",
        "print(text5.isalnum())\n",
        "print(text6.isalnum())\n",
        "print(text7.isalnum())"
      ]
    },
    {
      "cell_type": "code",
      "source": [
        "text = \"!#$$!!!!!!!!!@#231421234네123^&^#$#이!#12313_+{스a\"\n",
        "text1 = \"네이스\"\n",
        "text2 = \"123123\"\n",
        "text3 = \"!@#$\"\n",
        "check = \"\"\n",
        "print(text1.isalpha())\n",
        "print(text2.isalpha())\n",
        "print(text3.isalpha())\n",
        "for i in text:\n",
        "    if i.isalpha():\n",
        "        check +=i\n",
        "print(check)"
      ],
      "metadata": {
        "colab": {
          "base_uri": "https://localhost:8080/"
        },
        "id": "SU_2yaJT5oDs",
        "outputId": "e1f762d9-43c0-4e08-aace-f383bd692e09"
      },
      "execution_count": 2,
      "outputs": [
        {
          "output_type": "stream",
          "name": "stdout",
          "text": [
            "True\n",
            "False\n",
            "False\n",
            "네이스a\n"
          ]
        }
      ]
    },
    {
      "cell_type": "code",
      "source": [
        "a= \"BlockDMask\"\n",
        "b= \"1234Blog\"\n",
        "c= \"131231\"\n",
        "d= \"-234\"\n",
        "e= \"1.23\"\n",
        "f= \"3**2\"\n",
        "g= \"%\"\n",
        "h= \"0\"\n",
        "i = \"0123\"\n",
        "\n",
        "print(f\"str.isdigit('{a}')) : {str.isdigit(a)}\")\n",
        "print(f\"str.isdigit('{b}')) : {str.isdigit(b)}\")\n",
        "print(f\"str.isdigit('{c}')) : {str.isdigit(c)}\")\n",
        "print(f\"str.isdigit('{d}')) : {str.isdigit(d)}\")\n",
        "print(f\"str.isdigit('{e}')) : {str.isdigit(e)}\")\n",
        "print(f\"str.isdigit('{f}')) : {str.isdigit(f)}\")\n",
        "print(f\"str.isdigit('{g}')) : {str.isdigit(g)}\")\n",
        "print(f\"str.isdigit('{h}')) : {str.isdigit(h)}\")\n",
        "print(f\"str.isdigit('{i}')) : {str.isdigit(i)}\")\n",
        "print()"
      ],
      "metadata": {
        "colab": {
          "base_uri": "https://localhost:8080/"
        },
        "id": "DFMpKdJn5x3z",
        "outputId": "b0294a25-7786-4d89-a0a3-3714289f6928"
      },
      "execution_count": 3,
      "outputs": [
        {
          "output_type": "stream",
          "name": "stdout",
          "text": [
            "str.isdigit('BlockDMask')) : False\n",
            "str.isdigit('1234Blog')) : False\n",
            "str.isdigit('131231')) : True\n",
            "str.isdigit('-234')) : False\n",
            "str.isdigit('1.23')) : False\n",
            "str.isdigit('3**2')) : False\n",
            "str.isdigit('%')) : False\n",
            "str.isdigit('0')) : True\n",
            "str.isdigit('0123')) : True\n",
            "\n"
          ]
        }
      ]
    },
    {
      "cell_type": "code",
      "source": [
        "a='12345678'\n",
        "print(a.isdigit())\n",
        "print(a.isdecimal())\n",
        "print(a.isnumeric())"
      ],
      "metadata": {
        "colab": {
          "base_uri": "https://localhost:8080/"
        },
        "id": "74ramKR46GWK",
        "outputId": "9f79ade7-ba78-4851-ba7f-b9dbc6bae7c1"
      },
      "execution_count": 4,
      "outputs": [
        {
          "output_type": "stream",
          "name": "stdout",
          "text": [
            "True\n",
            "True\n",
            "True\n"
          ]
        }
      ]
    },
    {
      "cell_type": "code",
      "source": [
        "x='3^2'\n",
        "print()\n",
        "print(x.isdigit())\n",
        "print(x.isdecimal())\n",
        "print(x.isnumeric())"
      ],
      "metadata": {
        "colab": {
          "base_uri": "https://localhost:8080/"
        },
        "id": "jhiKcltF6M9s",
        "outputId": "1fb9bf79-6092-4912-b996-e5e935158b5c"
      },
      "execution_count": 6,
      "outputs": [
        {
          "output_type": "stream",
          "name": "stdout",
          "text": [
            "\n",
            "False\n",
            "False\n",
            "False\n"
          ]
        }
      ]
    },
    {
      "cell_type": "code",
      "source": [
        "a= \"I Love Python\"\n",
        "\n",
        "print(a.islower())\n",
        "print(a.isupper())\n",
        "print(a.upper())\n",
        "print(a.lower())"
      ],
      "metadata": {
        "colab": {
          "base_uri": "https://localhost:8080/"
        },
        "id": "6m2SYe3N6V5V",
        "outputId": "08a3a3e9-f2bc-41db-9717-3807a963961e"
      },
      "execution_count": 7,
      "outputs": [
        {
          "output_type": "stream",
          "name": "stdout",
          "text": [
            "False\n",
            "False\n",
            "I LOVE PYTHON\n",
            "i love python\n"
          ]
        }
      ]
    },
    {
      "cell_type": "code",
      "source": [
        "str = \"This is string example....wow!!!\"\n",
        "print(str.islower())\n",
        "print(str.upper())\n",
        "\n",
        "str = \"this is string example....wow!!!\"\n",
        "print(str.islower())"
      ],
      "metadata": {
        "colab": {
          "base_uri": "https://localhost:8080/"
        },
        "id": "OveY5rVZ6ccJ",
        "outputId": "15bb6148-1c31-47ed-99bd-10ee98840f94"
      },
      "execution_count": 8,
      "outputs": [
        {
          "output_type": "stream",
          "name": "stdout",
          "text": [
            "False\n",
            "THIS IS STRING EXAMPLE....WOW!!!\n",
            "True\n"
          ]
        }
      ]
    },
    {
      "cell_type": "code",
      "source": [
        "str = \"this is string example....wow!!!\"\n",
        "print(str.swapcase())\n",
        "\n",
        "str= \"THIS IS STRING EXAMPLE....WOW!!! 1234\"\n",
        "print(str.swapcase())"
      ],
      "metadata": {
        "colab": {
          "base_uri": "https://localhost:8080/"
        },
        "id": "GzLaiAFa6h9q",
        "outputId": "cd37c5a9-ec26-4310-f69f-33a4b31805c3"
      },
      "execution_count": 9,
      "outputs": [
        {
          "output_type": "stream",
          "name": "stdout",
          "text": [
            "THIS IS STRING EXAMPLE....WOW!!!\n",
            "this is string example....wow!!! 1234\n"
          ]
        }
      ]
    },
    {
      "cell_type": "code",
      "source": [
        "str = \"This Is String Example....Wow!!!\"\n",
        "print(str.istitle())\n",
        "\n",
        "str = \"This is string example....wow!!!\"\n",
        "print(str.istitle())\n",
        "print(str.title())"
      ],
      "metadata": {
        "colab": {
          "base_uri": "https://localhost:8080/"
        },
        "id": "3VVG0dj06ovt",
        "outputId": "a1ad032c-e7bb-43c3-b958-4db649f5b6fb"
      },
      "execution_count": 11,
      "outputs": [
        {
          "output_type": "stream",
          "name": "stdout",
          "text": [
            "True\n",
            "False\n",
            "This Is String Example....Wow!!!\n"
          ]
        }
      ]
    },
    {
      "cell_type": "code",
      "source": [
        "print('hello world!'.capitalize())\n",
        "print('HELLO WORLD!'.capitalize())"
      ],
      "metadata": {
        "colab": {
          "base_uri": "https://localhost:8080/"
        },
        "id": "SiUXmQba60RS",
        "outputId": "df31b942-7473-40b5-913f-7738c2a6b635"
      },
      "execution_count": 12,
      "outputs": [
        {
          "output_type": "stream",
          "name": "stdout",
          "text": [
            "Hello world!\n",
            "Hello world!\n"
          ]
        }
      ]
    }
  ]
}